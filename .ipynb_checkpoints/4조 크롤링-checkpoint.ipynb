{
 "cells": [
  {
   "cell_type": "code",
   "execution_count": 1,
   "id": "7850c5bd",
   "metadata": {},
   "outputs": [],
   "source": [
    "import selenium\n",
    "from selenium import webdriver\n",
    "import pandas as pd\n",
    "import numpy as np\n",
    "from bs4 import BeautifulSoup\n",
    "from selenium.webdriver.common.by import By"
   ]
  },
  {
   "cell_type": "code",
   "execution_count": 8,
   "id": "a74921cf",
   "metadata": {},
   "outputs": [
    {
     "name": "stderr",
     "output_type": "stream",
     "text": [
      "C:\\Users\\ADMINI~1\\AppData\\Local\\Temp/ipykernel_21556/4139024571.py:1: DeprecationWarning: executable_path has been deprecated, please pass in a Service object\n",
      "  driver = webdriver.Chrome('./driver/chromedriver')\n"
     ]
    }
   ],
   "source": [
    "driver = webdriver.Chrome('./driver/chromedriver')"
   ]
  },
  {
   "cell_type": "code",
   "execution_count": 9,
   "id": "30c5c09a",
   "metadata": {},
   "outputs": [],
   "source": [
    "#https://search.naver.com/search.naver?where=nexearch&sm=top_hty&fbm=1&ie=utf8&query=%EC%98%A4%EB%B0%B1%EB%83%A5%EB%B6%84%EC%8B%9D\n",
    "url = \"https://search.naver.com/search.naver\"\n",
    "driver.get(url)"
   ]
  },
  {
   "cell_type": "code",
   "execution_count": 18,
   "id": "6f5ca0d8",
   "metadata": {},
   "outputs": [],
   "source": [
    "search = driver.find_element(By.ID,'query')\n"
   ]
  },
  {
   "cell_type": "code",
   "execution_count": null,
   "id": "a433980f",
   "metadata": {},
   "outputs": [],
   "source": []
  }
 ],
 "metadata": {
  "kernelspec": {
   "display_name": "Python 3 (ipykernel)",
   "language": "python",
   "name": "python3"
  },
  "language_info": {
   "codemirror_mode": {
    "name": "ipython",
    "version": 3
   },
   "file_extension": ".py",
   "mimetype": "text/x-python",
   "name": "python",
   "nbconvert_exporter": "python",
   "pygments_lexer": "ipython3",
   "version": "3.9.7"
  }
 },
 "nbformat": 4,
 "nbformat_minor": 5
}
